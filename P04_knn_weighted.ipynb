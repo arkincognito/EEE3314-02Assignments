{
 "cells": [
  {
   "cell_type": "markdown",
   "metadata": {},
   "source": [
    "> ### EEE3314-02: Introduction to Artificial Intelligence\n",
    "\n",
    "# Assignment \\# IV: KNN Classifier"
   ]
  },
  {
   "cell_type": "markdown",
   "metadata": {},
   "source": [
    "### *Assignement Instructions:*\n",
    "- Write a program implementing a particular algorithm to solve a given problem.   \n",
    "- <h4><span style=\"color:red\">**Report and discuss your results. Analyze the algorithm, theoretically and empirically. **</span> </h4>\n",
    "\n",
    "### *Collaboration policy:*\n",
    "- You may discuss the questions.   \n",
    "- Each student writes their own answers.   \n",
    "- **Write on your homework anyone with whom you collaborate.**   \n",
    "- Each student must write their own code for the programming part (**if not you will get a F grade**)."
   ]
  },
  {
   "cell_type": "code",
   "execution_count": 1,
   "metadata": {},
   "outputs": [
    {
     "name": "stdout",
     "output_type": "stream",
     "text": [
      "This code is written at 2020-03-12 01:34:55.560604\n"
     ]
    }
   ],
   "source": [
    "%load_ext autoreload\n",
    "%autoreload 2\n",
    "\n",
    "import datetime\n",
    "print(\"This code is written at \" + str(datetime.datetime.now()))"
   ]
  },
  {
   "cell_type": "markdown",
   "metadata": {},
   "source": [
    "## Problem description"
   ]
  },
  {
   "cell_type": "markdown",
   "metadata": {},
   "source": [
    "In this homework, we will implement a k-NN classifier with the MNIST dataset. The MNIST dataset contains handwritten digits with corresponding labels from $0$ to $9$, and it has been commonly used for testing various machine learning algorithms. The $\\texttt{sklearn.datasets}$ package provides the MNIST dataset. You can load the dataset as follows."
   ]
  },
  {
   "cell_type": "code",
   "execution_count": 2,
   "metadata": {},
   "outputs": [],
   "source": [
    "from sklearn import datasets\n",
    "import numpy as np"
   ]
  },
  {
   "cell_type": "code",
   "execution_count": 3,
   "metadata": {},
   "outputs": [],
   "source": [
    "mnist = datasets.load_digits()"
   ]
  },
  {
   "cell_type": "markdown",
   "metadata": {},
   "source": [
    "The $\\texttt{train_test_split}$ function from $\\texttt{sklearn.model_selection}$ package makes it easy to split datasets into training and test sets. We can easily makes a validation set from the test one as well. See the example shown below."
   ]
  },
  {
   "cell_type": "code",
   "execution_count": 4,
   "metadata": {},
   "outputs": [],
   "source": [
    "from sklearn.model_selection import train_test_split"
   ]
  },
  {
   "cell_type": "code",
   "execution_count": 5,
   "metadata": {},
   "outputs": [],
   "source": [
    "(X_train, X_test, y_train, y_test) = train_test_split(np.array(mnist.data), mnist.target, test_size=0.33, random_state=42)\n",
    "(X_train, X_val, y_train, y_val) = train_test_split(X_train, y_train, test_size=0.33, random_state=42)"
   ]
  },
  {
   "cell_type": "markdown",
   "metadata": {},
   "source": [
    "where X_train, X_test and X_val are training, test, and validation sets, respectively. y_train, y_test and y_val are labels for X_train, X_test, and X_val, respectively."
   ]
  },
  {
   "cell_type": "markdown",
   "metadata": {},
   "source": [
    "The datset contains 64-dimensional vectors, and we can visualize each one with the $\\texttt{imshow}$ function after reshaping it as follows."
   ]
  },
  {
   "cell_type": "code",
   "execution_count": 6,
   "metadata": {
    "scrolled": true
   },
   "outputs": [
    {
     "name": "stdout",
     "output_type": "stream",
     "text": [
      "X_train.shape:  (806, 64)\n",
      "X_train[0].shape:  (64,)\n",
      "y_train.shape:  (806,)\n"
     ]
    }
   ],
   "source": [
    "print(\"X_train.shape: \", X_train.shape)\n",
    "print(\"X_train[0].shape: \",X_train[0].shape)\n",
    "print(\"y_train.shape: \", y_train.shape)"
   ]
  },
  {
   "cell_type": "code",
   "execution_count": 7,
   "metadata": {},
   "outputs": [],
   "source": [
    "import matplotlib.pyplot as plt"
   ]
  },
  {
   "cell_type": "code",
   "execution_count": 8,
   "metadata": {},
   "outputs": [
    {
     "name": "stdout",
     "output_type": "stream",
     "text": [
      "A label for 8th sample in the training set is 5\n"
     ]
    },
    {
     "data": {
      "image/png": "[encoded data removed]",
      "text/plain": [
       "<Figure size 432x288 with 1 Axes>"
      ]
     },
     "metadata": {
      "needs_background": "light"
     },
     "output_type": "display_data"
    }
   ],
   "source": [
    "sample_number = 8\n",
    "n_col = 8\n",
    "n_row = 8\n",
    "im=plt.imshow(X_train[sample_number].reshape(n_col,n_row))\n",
    "print('A label for %dth sample in the training set is %d' % (sample_number, y_train[sample_number]))"
   ]
  },
  {
   "cell_type": "markdown",
   "metadata": {},
   "source": [
    "## I. Solve Problem  (80 points)\n",
    "### P1.1\n",
    "(*60 points*) Implement a K-NN classifier.    "
   ]
  },
  {
   "cell_type": "code",
   "execution_count": 9,
   "metadata": {},
   "outputs": [],
   "source": [
    "from P04_2 import predict"
   ]
  },
  {
   "cell_type": "markdown",
   "metadata": {},
   "source": [
    "- Predict label of first test sample when k=20."
   ]
  },
  {
   "cell_type": "code",
   "execution_count": 10,
   "metadata": {},
   "outputs": [],
   "source": [
    "k = 20\n",
    "prediction_of_first_sample = predict(X_train, y_train, X_test[0], k)"
   ]
  },
  {
   "cell_type": "code",
   "execution_count": 11,
   "metadata": {
    "scrolled": false
   },
   "outputs": [
    {
     "name": "stdout",
     "output_type": "stream",
     "text": [
      "6\n"
     ]
    }
   ],
   "source": [
    "print(prediction_of_first_sample)"
   ]
  },
  {
   "cell_type": "code",
   "execution_count": 12,
   "metadata": {
    "scrolled": true
   },
   "outputs": [
    {
     "name": "stdout",
     "output_type": "stream",
     "text": [
      "6\n"
     ]
    }
   ],
   "source": [
    "label_of_first_sample = y_test[0]\n",
    "print(label_of_first_sample)"
   ]
  },
  {
   "cell_type": "code",
   "execution_count": 13,
   "metadata": {
    "scrolled": false
   },
   "outputs": [
    {
     "name": "stdout",
     "output_type": "stream",
     "text": [
      "A label of first sample in the test set is 6\n"
     ]
    },
    {
     "data": {
      "image/png": "[encoded data removed]",
      "text/plain": [
       "<Figure size 432x288 with 1 Axes>"
      ]
     },
     "metadata": {
      "needs_background": "light"
     },
     "output_type": "display_data"
    }
   ],
   "source": [
    "n_col = 8\n",
    "n_row = 8\n",
    "im=plt.imshow(X_test[0].reshape(n_col,n_col))\n",
    "print('A label of first sample in the test set is %d' % (y_test[0]))"
   ]
  },
  {
   "cell_type": "code",
   "execution_count": 14,
   "metadata": {
    "scrolled": true
   },
   "outputs": [
    {
     "name": "stdout",
     "output_type": "stream",
     "text": [
      "Prediction and label are same : True\n"
     ]
    }
   ],
   "source": [
    "print(\"Prediction and label are same :\", (prediction_of_first_sample==label_of_first_sample))"
   ]
  },
  {
   "cell_type": "markdown",
   "metadata": {},
   "source": [
    "- You should get appropriate accuracy on test data when k=10 "
   ]
  },
  {
   "cell_type": "code",
   "execution_count": 15,
   "metadata": {},
   "outputs": [],
   "source": [
    "from P04_2 import accuracy"
   ]
  },
  {
   "cell_type": "code",
   "execution_count": 16,
   "metadata": {},
   "outputs": [],
   "source": [
    "k =10 \n",
    "accuracy_when_k_equals_10 = accuracy(X_train, y_train, X_test, y_test, k)"
   ]
  },
  {
   "cell_type": "code",
   "execution_count": 17,
   "metadata": {
    "scrolled": false
   },
   "outputs": [
    {
     "name": "stdout",
     "output_type": "stream",
     "text": [
      "0.9848484848484849\n"
     ]
    }
   ],
   "source": [
    "print(accuracy_when_k_equals_10)"
   ]
  },
  {
   "cell_type": "markdown",
   "metadata": {},
   "source": [
    "### P1.2\n",
    "(*20 points*) Plot accuracy on the validation set according to the value of $k$, where $k = 1,2,...,20$. Choose the optimal $k$ value from the plot and compute accuracy on the test set. "
   ]
  },
  {
   "cell_type": "code",
   "execution_count": 18,
   "metadata": {},
   "outputs": [],
   "source": [
    "from P04_2 import stack_accuracy_over_k"
   ]
  },
  {
   "cell_type": "code",
   "execution_count": 19,
   "metadata": {},
   "outputs": [],
   "source": [
    "accuracies_k = stack_accuracy_over_k(X_train, y_train, X_val, y_val)"
   ]
  },
  {
   "cell_type": "code",
   "execution_count": 20,
   "metadata": {},
   "outputs": [
    {
     "data": {
      "text/plain": [
       "20"
      ]
     },
     "execution_count": 20,
     "metadata": {},
     "output_type": "execute_result"
    }
   ],
   "source": [
    "len(accuracies_k)"
   ]
  },
  {
   "cell_type": "code",
   "execution_count": 33,
   "metadata": {
    "scrolled": false
   },
   "outputs": [
    {
     "data": {
      "image/png": "[encoded data removed]",
      "text/plain": [
       "<Figure size 648x288 with 1 Axes>"
      ]
     },
     "metadata": {
      "needs_background": "light"
     },
     "output_type": "display_data"
    }
   ],
   "source": [
    "plt.figure(figsize=(9,4))\n",
    "plt.plot(np.arange(20)+1, accuracies_k, marker= '*')\n",
    "plt.xticks(np.arange(1, 21, step=1))\n",
    "plt.title('Validation accuracy over k', fontsize=20)\n",
    "plt.xlabel('k', fontsize=15)\n",
    "plt.ylabel('Validation accuracy', fontsize=15)\n",
    "plt.show()"
   ]
  },
  {
   "cell_type": "code",
   "execution_count": 22,
   "metadata": {},
   "outputs": [],
   "source": [
    "from P04_2 import stack_accuracy_over_lambda"
   ]
  },
  {
   "cell_type": "code",
   "execution_count": 23,
   "metadata": {},
   "outputs": [],
   "source": [
    "accuracies_lambda = stack_accuracy_over_lambda(X_train, y_train, X_val, y_val)"
   ]
  },
  {
   "cell_type": "code",
   "execution_count": 24,
   "metadata": {},
   "outputs": [
    {
     "data": {
      "text/plain": [
       "20"
      ]
     },
     "execution_count": 24,
     "metadata": {},
     "output_type": "execute_result"
    }
   ],
   "source": [
    "len(accuracies_lambda)"
   ]
  },
  {
   "cell_type": "code",
   "execution_count": 25,
   "metadata": {},
   "outputs": [
    {
     "name": "stdout",
     "output_type": "stream",
     "text": [
      "[0.982367758186398, 0.982367758186398, 0.982367758186398, 0.982367758186398, 0.982367758186398, 0.982367758186398, 0.982367758186398, 0.982367758186398, 0.982367758186398, 0.982367758186398, 0.9748110831234257, 0.9748110831234257, 0.9773299748110831, 0.9773299748110831, 0.9773299748110831, 0.9773299748110831, 0.9773299748110831, 0.3702770780856423, 0.10831234256926953, 0.0906801007556675]\n"
     ]
    }
   ],
   "source": [
    "print(accuracies_lambda)"
   ]
  },
  {
   "cell_type": "code",
   "execution_count": 32,
   "metadata": {
    "scrolled": true
   },
   "outputs": [
    {
     "data": {
      "image/png": "[encoded data removed]",
      "text/plain": [
       "<Figure size 648x288 with 1 Axes>"
      ]
     },
     "metadata": {
      "needs_background": "light"
     },
     "output_type": "display_data"
    }
   ],
   "source": [
    "plt.figure(figsize=(9,4))\n",
    "plt.plot(np.array(list(i for i in range(20))), accuracies_lambda, marker= '*')\n",
    "plt.xticks(np.array(list(i for i in range(20))))\n",
    "plt.title('Validation accuracy over lambda', fontsize=20)\n",
    "plt.xlabel('lambda = 100 / 2 ** i', fontsize=15)\n",
    "plt.ylabel('Validation accuracy', fontsize=15)\n",
    "plt.show()"
   ]
  },
  {
   "cell_type": "code",
   "execution_count": 27,
   "metadata": {},
   "outputs": [],
   "source": [
    "from P04_2 import stack_accuracy_on_k_and_lambda\n",
    "accuracies_lk = stack_accuracy_on_k_and_lambda(X_train, y_train, X_val, y_val)"
   ]
  },
  {
   "cell_type": "code",
   "execution_count": 28,
   "metadata": {},
   "outputs": [
    {
     "data": {
      "image/png": "[encoded data removed]",
      "text/plain": [
       "<Figure size 648x648 with 2 Axes>"
      ]
     },
     "metadata": {
      "needs_background": "light"
     },
     "output_type": "display_data"
    }
   ],
   "source": [
    "plt.figure(figsize=(9,9))\n",
    "x = list(i for i in range(0, 10))\n",
    "y = list(k for k in range(1, 21))\n",
    "X_mesh, Y_mesh = np.meshgrid(x, y)\n",
    "Z = accuracies_lk\n",
    "\n",
    "contour = plt.contour(X_mesh, Y_mesh, Z, levels = np.linspace(Z.reshape(-1, 1).min(), Z.reshape(-1, 1).max(), 15))\n",
    "plt.colorbar(contour)\n",
    "plt.title('Validation accuracy over lambda and k', fontsize=20)\n",
    "plt.xlabel('lambda = 100 / 2 ** i', fontsize=15)\n",
    "plt.ylabel('k', fontsize=15)\n",
    "plt.show()"
   ]
  },
  {
   "cell_type": "code",
   "execution_count": 29,
   "metadata": {},
   "outputs": [],
   "source": [
    "optimal_k = np.argmax(np.asarray(accuracies_k))+1\n",
    "optimal_lambda = np.argmax(np.asarray(accuracies_lambda))+1"
   ]
  },
  {
   "cell_type": "code",
   "execution_count": 30,
   "metadata": {},
   "outputs": [
    {
     "data": {
      "text/plain": [
       "(3, 1)"
      ]
     },
     "execution_count": 30,
     "metadata": {},
     "output_type": "execute_result"
    }
   ],
   "source": [
    "optimal_k, optimal_lambda"
   ]
  },
  {
   "cell_type": "code",
   "execution_count": 31,
   "metadata": {},
   "outputs": [
    {
     "name": "stdout",
     "output_type": "stream",
     "text": [
      "0.9865319865319865\n"
     ]
    }
   ],
   "source": [
    "acc = accuracy(X_train, y_train, X_test, y_test, optimal_k, lambda_value=optimal_lambda)\n",
    "print(acc)"
   ]
  },
  {
   "cell_type": "markdown",
   "metadata": {},
   "source": [
    "## Result Analysis and Discussion (20 points)"
   ]
  },
  {
   "cell_type": "markdown",
   "metadata": {},
   "source": [
    "For result analysis and discussion, you can use all functions defined above. Also you can make your own functions or scripts.\n",
    "\n",
    "Your answer must include the analysis about:\n",
    "\n",
    "- Algorithm of k-NN\n",
    "- Difference between k-NN and regression"
   ]
  },
  {
   "cell_type": "markdown",
   "metadata": {},
   "source": [
    "For KNN, if it more than two labels have the same likelyhood, the prediction requires additional reasoning sceme to choose between the same likelyhooded labels. So in this case, I implemented the weighted KNN. Instead of counting the nodes of each label, each labels are added with by the inverse of square of weights. Weights are calculated by dividing the distance of KNNs by distance of K+1th NN. Label with max value means the closest ones."
   ]
  },
  {
   "cell_type": "markdown",
   "metadata": {},
   "source": [
    "For more info on the weighted KNN, See https://epub.ub.uni-muenchen.de/1769/1/paper_399.pdf page 7"
   ]
  },
  {
   "cell_type": "markdown",
   "metadata": {},
   "source": [
    "Instead of using counts of labels, we sum up the Kernel Weights of choosing.\n",
    "\n",
    "In this case, Kernel Weight:\n",
    "$$ w_i = e^{-D(x_{query}, x_i) / \\lambda}$$"
   ]
  },
  {
   "cell_type": "markdown",
   "metadata": {},
   "source": [
    "Where Normalized Distance for ith NN: $$ D(x_{query}, x_i) = \\frac{d(x_{query}, x_i)}{d(x_{query}, x_{k+1})} $$"
   ]
  },
  {
   "cell_type": "code",
   "execution_count": null,
   "metadata": {},
   "outputs": [],
   "source": []
  }
 ],
 "metadata": {
  "kernelspec": {
   "display_name": "Python 3",
   "language": "python",
   "name": "python3"
  },
  "language_info": {
   "codemirror_mode": {
    "name": "ipython",
    "version": 3
   },
   "file_extension": ".py",
   "mimetype": "text/x-python",
   "name": "python",
   "nbconvert_exporter": "python",
   "pygments_lexer": "ipython3",
   "version": "3.7.6"
  }
 },
 "nbformat": 4,
 "nbformat_minor": 2
}
